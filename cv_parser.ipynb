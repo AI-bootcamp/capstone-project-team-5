{
  "cells": [
    {
      "cell_type": "code",
      "execution_count": 1,
      "metadata": {},
      "outputs": [
        {
          "name": "stdout",
          "output_type": "stream",
          "text": [
            "Requirement already satisfied: pdfplumber in c:\\users\\alawi\\appdata\\local\\programs\\python\\python312\\lib\\site-packages (0.11.5)\n",
            "Requirement already satisfied: pdfminer.six==20231228 in c:\\users\\alawi\\appdata\\local\\programs\\python\\python312\\lib\\site-packages (from pdfplumber) (20231228)\n",
            "Requirement already satisfied: Pillow>=9.1 in c:\\users\\alawi\\appdata\\local\\programs\\python\\python312\\lib\\site-packages (from pdfplumber) (11.0.0)\n",
            "Requirement already satisfied: pypdfium2>=4.18.0 in c:\\users\\alawi\\appdata\\local\\programs\\python\\python312\\lib\\site-packages (from pdfplumber) (4.30.1)\n",
            "Requirement already satisfied: charset-normalizer>=2.0.0 in c:\\users\\alawi\\appdata\\local\\programs\\python\\python312\\lib\\site-packages (from pdfminer.six==20231228->pdfplumber) (3.4.0)\n",
            "Requirement already satisfied: cryptography>=36.0.0 in c:\\users\\alawi\\appdata\\local\\programs\\python\\python312\\lib\\site-packages (from pdfminer.six==20231228->pdfplumber) (44.0.0)\n",
            "Requirement already satisfied: cffi>=1.12 in c:\\users\\alawi\\appdata\\local\\programs\\python\\python312\\lib\\site-packages (from cryptography>=36.0.0->pdfminer.six==20231228->pdfplumber) (1.17.1)\n",
            "Requirement already satisfied: pycparser in c:\\users\\alawi\\appdata\\local\\programs\\python\\python312\\lib\\site-packages (from cffi>=1.12->cryptography>=36.0.0->pdfminer.six==20231228->pdfplumber) (2.22)\n"
          ]
        }
      ],
      "source": [
        "# !pip install pdfplumber"
      ]
    },
    {
      "cell_type": "code",
      "execution_count": null,
      "metadata": {
        "id": "yR7Dj6_xCRBT"
      },
      "outputs": [
        {
          "name": "stdout",
          "output_type": "stream",
          "text": [
            "Nasser Turki Al-Qahtani\n",
            "Riyadh, Saudi Arabia, NasserT.Qh@hotmail.com, +966 542200644\n",
            "PROFILE Dynamic and results-driven IT professional with a strong background in artificial intelligence and cybersecurity,\n",
            "recognized for leading innovative projects like the award-winning SkyEye system. Adept at leveraging advanced\n",
            "technologies like computer vision and drone integration to deliver impactful solutions. Highly motivated to excel\n",
            "as an AI developer, with proven skills in problem-solving, teamwork, and presenting complex concepts to diverse\n",
            "audiences. Equipped with certifications in cybersecurity and eJPT, showcasing a commitment to continuous\n",
            "learning and excellence.\n",
            "EDUCATION\n",
            "Jun 2020 — May 2025 Information Technogly Bachelor, Imam Mohammed Bin Saud\n",
            "Universty Riyadh\n",
            "Jun 2019 — Aug 2019 English course, Mahsa Universty Malaysia\n",
            "PROJECTS Graduation Project\n",
            "Our project, SkyEye, earned second place honors at the Graduation Projects\n",
            "Exhibition at Imam Mohammad Ibn Saud University. SkyEye, utilizes a DJI Tello\n",
            "drone equipped with real-time detection capabilities for monitoring cars, yellow\n",
            "lines, license plates, and no-parking zones. Using the computer viosion model, we\n",
            "gathered a comprehensive dataset on illegal parking to train our AI to recognize and\n",
            "assess potential violations. The system detects a violation if a vehicle is stopped to the\n",
            "right of the yellow line and a no-parking sign is present. This setup enables remote\n",
            "control of the drone from a laptop, allowing officers to operate it without needing to\n",
            "be physically present in the harsh sun, making the process more efficient and practical\n",
            "for enforcement.\n",
            "CERTIFICATIONS\n",
            "2024 Data+ Comptia\n",
            "Showcasing expertise in data analytics, interpretation, and visualization. Proficient in transforming data into\n",
            "actionable insights to drive informed decision-making and business strategies.\n",
            "2023 eLearnSecurity Junior Penetration Tester eJPTv2. INE\n",
            "Demonstrating solid skills in penetration testing, vulnerability assessment, and practical application of\n",
            "cybersecurity principles.\n",
            "COURSES\n",
            "2024 Data science, Tuwaiq Academy\n",
            "2024 Drones and artificial intelligence , Saudi federation for\n",
            "cybersecurity and drones\n",
            "2023 Penetration testing course , Tuwaiq Academy\n",
            "2023 eJPT Course , INE\n",
            "2022 Python course , Udemy\n",
            "SKILLS Project Management Data science\n",
            "SQL Power BI\n",
            "Python Web Application\n",
            "LANGUAGES Arabic English\n"
          ]
        }
      ],
      "source": [
        "import pdfplumber\n",
        "\n",
        "def process_cv_from_pdf(file_path):\n",
        "    \"\"\"\n",
        "    Extracts and processes text from a CV PDF file using pdfplumber.\n",
        "\n",
        "    Args:\n",
        "        file_path (str): Path to the CV PDF file.\n",
        "\n",
        "    Returns:\n",
        "        str: The processed text from the CV.\n",
        "    \"\"\"\n",
        "    try:\n",
        "        with pdfplumber.open(file_path) as pdf:\n",
        "            text = ''\n",
        "            for page in pdf.pages:\n",
        "                text += page.extract_text() + '\\n'\n",
        "        # Add processing steps if needed, e.g., cleaning or extracting specific information\n",
        "        processed_text = text.strip()\n",
        "        return processed_text\n",
        "    except Exception as e:\n",
        "        print(f\"Error reading PDF file: {e}\")\n",
        "        return None\n",
        "print(process_cv_from_pdf(\"Nasser_Turki_Al-Qahtani.pdf.pdf\"))"
      ]
    },
    {
      "cell_type": "code",
      "execution_count": null,
      "metadata": {},
      "outputs": [],
      "source": []
    }
  ],
  "metadata": {
    "colab": {
      "provenance": []
    },
    "kernelspec": {
      "display_name": "Python 3",
      "language": "python",
      "name": "python3"
    },
    "language_info": {
      "codemirror_mode": {
        "name": "ipython",
        "version": 3
      },
      "file_extension": ".py",
      "mimetype": "text/x-python",
      "name": "python",
      "nbconvert_exporter": "python",
      "pygments_lexer": "ipython3",
      "version": "3.12.8"
    }
  },
  "nbformat": 4,
  "nbformat_minor": 0
}
